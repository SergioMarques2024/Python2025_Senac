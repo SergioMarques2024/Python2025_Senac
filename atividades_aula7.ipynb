{
 "cells": [
  {
   "cell_type": "markdown",
   "metadata": {},
   "source": [
    "1. Cálculo de Média de Notas:\n",
    "Peça ao usuário que insira 4 notas (de 0 a 10). Calcule a média das notas e exiba o resultado. Se a média for maior ou igual a 7, exiba \"Aprovado\". Caso contrário, exiba \"Reprovado\".\n",
    "\n",
    "2. Soma dos Números Pares em um Intervalo:\n",
    "Peça ao usuário dois números, representando o início e o fim de um intervalo. Use um loop (for ou while) para calcular a soma de todos os números pares nesse intervalo e exiba o resultado.\n",
    "\n",
    "3. Verificação de Palíndromo:\n",
    "Peça ao usuário uma palavra ou frase. Verifique se a entrada é um palíndromo (ou seja, se pode ser lida da mesma forma de trás para frente, ignorando espaços e maiúsculas/minúsculas). Exiba \"É palíndromo\" ou \"Não é palíndromo\".\n",
    "\n",
    "4. Cálculo de Juros Simples:\n",
    "Peça ao usuário o valor principal (P), a taxa de juros anual (r) e o tempo em anos (t). Calcule o montante final usando a fórmula de juros simples \n",
    "M=P×(1+r×t) e exiba o resultado.\n",
    "\n",
    "5. Contagem de Dígitos:\n",
    "Peça ao usuário um número inteiro positivo. Conte quantos dígitos esse número possui e exiba o resultado."
   ]
  }
 ],
 "metadata": {
  "language_info": {
   "name": "python"
  }
 },
 "nbformat": 4,
 "nbformat_minor": 2
}
