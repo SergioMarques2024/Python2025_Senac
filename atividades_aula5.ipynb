{
 "cells": [
  {
   "cell_type": "markdown",
   "metadata": {},
   "source": [
    "1. Cálculo de Desconto em uma Loja\n",
    "Declare duas variáveis, preco e desconto, com valores 150.0 e 20, respectivamente.\n",
    "Calcule o preço final após aplicar o desconto e imprima o resultado.\n",
    "\n",
    "2. Cálculo de IMC (Índice de Massa Corporal)\n",
    "Declare duas variáveis, peso e altura, com valores 70 e 1.75, respectivamente.\n",
    "Calcule o IMC usando a fórmula: IMC = peso / (altura ** 2). Imprima o resultado.\n",
    "\n",
    "3. Verificação de Elegibilidade para um Concurso\n",
    "Declare duas variáveis, idade e tem_experiencia, com valores 22 e True, respectivamente.\n",
    "Verifique se a pessoa é elegível para o concurso (idade maior ou igual a 18 e tem experiência) e imprima o resultado.\n",
    "\n",
    "4. Classificação de Níveis de Acesso\n",
    "Declare uma variável nivel_acesso com um valor entre 1 e 3.\n",
    "Use estruturas condicionais para imprimir:\n",
    "\n",
    "\"Acesso total\" se o nível for 3.\n",
    "\"Acesso parcial\" se o nível for 2.\n",
    "\"Acesso restrito\" se o nível for 1.\n",
    "\n",
    "5. Conversão de Temperatura\n",
    "Declare uma variável celsius com um valor de temperatura em graus Celsius.\n",
    "Converta a temperatura para Fahrenheit usando a fórmula: F = (C * 9/5) + 32. Imprima o resultado.\n",
    "\n",
    "6. Verificação de Números Pares e Ímpares\n",
    "Declare uma variável numero com um valor inteiro. Use estruturas condicionais para verificar se o número é par ou ímpar e imprima o resultado.\n",
    "\n",
    "7. Cálculo de Frete com Base no Peso\n",
    "Declare uma variável peso com o peso de um pacote em kg.\n",
    "Calcule o frete com base nas seguintes regras:\n",
    "\n",
    "Peso até 5 kg: R$ 10.00\n",
    "Peso entre 5 kg e 10 kg: R$ 20.00\n",
    "Peso acima de 10 kg: R$ 30.00\n",
    "\n",
    "Imprima o valor do frete."
   ]
  }
 ],
 "metadata": {
  "language_info": {
   "name": "python"
  },
  "orig_nbformat": 4
 },
 "nbformat": 4,
 "nbformat_minor": 2
}
